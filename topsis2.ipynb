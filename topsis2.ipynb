{
  "nbformat": 4,
  "nbformat_minor": 0,
  "metadata": {
    "colab": {
      "provenance": []
    },
    "kernelspec": {
      "name": "python3",
      "display_name": "Python 3"
    },
    "language_info": {
      "name": "python"
    }
  },
  "cells": [
    {
      "cell_type": "code",
      "source": [
        "import nltk\n",
        "nltk.download('punkt')\n"
      ],
      "metadata": {
        "colab": {
          "base_uri": "https://localhost:8080/"
        },
        "id": "zcJkHyjYykeS",
        "outputId": "a6d0dfe0-cd09-49ed-ae4e-42942d46a030"
      },
      "execution_count": 2,
      "outputs": [
        {
          "output_type": "stream",
          "name": "stderr",
          "text": [
            "[nltk_data] Downloading package punkt to /root/nltk_data...\n",
            "[nltk_data]   Unzipping tokenizers/punkt.zip.\n"
          ]
        },
        {
          "output_type": "execute_result",
          "data": {
            "text/plain": [
              "True"
            ]
          },
          "metadata": {},
          "execution_count": 2
        }
      ]
    },
    {
      "cell_type": "code",
      "source": [
        "import nltk\n",
        "nltk.download('stopwords')\n"
      ],
      "metadata": {
        "colab": {
          "base_uri": "https://localhost:8080/"
        },
        "id": "k_6NBA9DynKw",
        "outputId": "3c6f63dd-d086-4854-933d-a70e9544d330"
      },
      "execution_count": 4,
      "outputs": [
        {
          "output_type": "stream",
          "name": "stderr",
          "text": [
            "[nltk_data] Downloading package stopwords to /root/nltk_data...\n",
            "[nltk_data]   Unzipping corpora/stopwords.zip.\n"
          ]
        },
        {
          "output_type": "execute_result",
          "data": {
            "text/plain": [
              "True"
            ]
          },
          "metadata": {},
          "execution_count": 4
        }
      ]
    },
    {
      "cell_type": "code",
      "source": [
        "import nltk\n",
        "import numpy as np\n",
        "from sklearn.feature_extraction.text import TfidfVectorizer\n",
        "from sklearn.metrics.pairwise import cosine_similarity\n",
        "import networkx as nx\n",
        "import matplotlib.pyplot as plt\n",
        "\n",
        "# Sample sentences\n",
        "sentences = [\n",
        "    \"The quick brown fox jumps over the lazy dog\",\n",
        "    \"A quick brown fox jumps over the lazy cat\",\n",
        "    \"The brown fox is fast\",\n",
        "    \"The dog and the cat are lazy\"\n",
        "]\n",
        "\n",
        "# Preprocessing\n",
        "def preprocess(text):\n",
        "    tokens = nltk.word_tokenize(text.lower())\n",
        "    stopwords = set(nltk.corpus.stopwords.words('english'))\n",
        "    tokens = [token for token in tokens if token.isalnum() and token not in stopwords]\n",
        "    return \" \".join(tokens)\n",
        "\n",
        "cleaned_sentences = [preprocess(sentence) for sentence in sentences]\n",
        "\n",
        "# Vectorization\n",
        "vectorizer = TfidfVectorizer()\n",
        "tfidf_matrix = vectorizer.fit_transform(cleaned_sentences)\n",
        "\n",
        "# Similarity Calculation\n",
        "similarity_matrix = cosine_similarity(tfidf_matrix, tfidf_matrix)\n",
        "\n",
        "# TOPSIS\n",
        "def topsis(similarity_matrix):\n",
        "    ideal_best = np.max(similarity_matrix, axis=1)\n",
        "    ideal_worst = np.min(similarity_matrix, axis=1)\n",
        "    normalized_matrix = similarity_matrix / np.sqrt(np.sum(similarity_matrix ** 2, axis=1))\n",
        "    score_best = np.sum((normalized_matrix - ideal_best) ** 2, axis=1)\n",
        "    score_worst = np.sum((normalized_matrix - ideal_worst) ** 2, axis=1)\n",
        "    performance_score = score_worst / (score_best + score_worst)\n",
        "    return performance_score\n",
        "\n",
        "topsis_scores = topsis(similarity_matrix)\n",
        "\n",
        "# Visualization\n",
        "G = nx.Graph()\n",
        "for i, sentence in enumerate(sentences):\n",
        "    G.add_node(i, label=sentence)\n",
        "\n",
        "for i in range(len(sentences)):\n",
        "    for j in range(i+1, len(sentences)):\n",
        "        similarity_score = similarity_matrix[i][j]\n",
        "        if similarity_score > 0.5:  # Threshold for similarity\n",
        "            G.add_edge(i, j, weight=similarity_score)\n",
        "\n",
        "pos = nx.spring_layout(G)\n",
        "labels = nx.get_edge_attributes(G, 'weight')\n",
        "nx.draw(G, pos, with_labels=True, node_size=2000, node_color='lightblue')\n",
        "nx.draw_networkx_edge_labels(G, pos, edge_labels=labels)\n",
        "plt.show()\n",
        "\n",
        "# Print TOPSIS scores\n",
        "print(\"TOPSIS Scores:\")\n",
        "for i, score in enumerate(topsis_scores):\n",
        "    print(f\"Sentence {i+1}: {score}\")"
      ],
      "metadata": {
        "colab": {
          "base_uri": "https://localhost:8080/",
          "height": 603
        },
        "id": "IX3sGo6yyv-H",
        "outputId": "762697e7-4ab9-4440-d62e-169933113aec"
      },
      "execution_count": 5,
      "outputs": [
        {
          "output_type": "display_data",
          "data": {
            "text/plain": [
              "<Figure size 640x480 with 1 Axes>"
            ],
            "image/png": "[encoded data removed]"
          },
          "metadata": {}
        },
        {
          "output_type": "stream",
          "name": "stdout",
          "text": [
            "TOPSIS Scores:\n",
            "Sentence 1: 0.2765758501334635\n",
            "Sentence 2: 0.2765758501334635\n",
            "Sentence 3: 0.2781591558317634\n",
            "Sentence 4: 0.2675379260471539\n"
          ]
        }
      ]
    },
    {
      "cell_type": "code",
      "source": [],
      "metadata": {
        "id": "2RuskiCtyyFl"
      },
      "execution_count": null,
      "outputs": []
    }
  ]
}